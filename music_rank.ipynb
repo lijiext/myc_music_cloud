{
 "cells": [
  {
   "cell_type": "code",
   "execution_count": 28,
   "metadata": {},
   "outputs": [],
   "source": [
    "import requests"
   ]
  },
  {
   "cell_type": "code",
   "execution_count": 29,
   "metadata": {},
   "outputs": [],
   "source": [
    "headers = {\n",
    "    'Host': 'music.163.com',\n",
    "    'User-Agent': 'Mozilla/5.0 (Windows NT 10.0; Win64; x64; rv:99.0) Gecko/20100101 Firefox/99.0',\n",
    "    'Accept': '*/*',\n",
    "    'Accept-Language': 'zh-CN,zh;q=0.8,zh-TW;q=0.7,zh-HK;q=0.5,en-US;q=0.3,en;q=0.2',\n",
    "    'Accept-Encoding': 'gzip, deflate, br',\n",
    "    'Referer': 'https://music.163.com/user/songs/rank?id=3469516504',\n",
    "    'Content-Type': 'application/x-www-form-urlencoded',\n",
    "    'Content-Length': '478',\n",
    "    'Origin': 'https://music.163.com',\n",
    "    'Connection': 'keep-alive',\n",
    "    'Sec-Fetch-Dest': 'empty',\n",
    "    'Sec-Fetch-Mode': 'no-cors',\n",
    "    'Sec-Fetch-Site': 'same-origin',\n",
    "    'TE': 'trailers',\n",
    "    'Pragma': 'no-cache',\n",
    "    'Cache-Control': 'no-cache'\n",
    "}"
   ]
  },
  {
   "cell_type": "code",
   "execution_count": 30,
   "metadata": {},
   "outputs": [],
   "source": [
    "def get_rank_list(url):\n",
    "    myc_data = 'params=qduxOOtI9xsPkiNLX6Iz8JUICdq77p8PxE2cHlNJBjIpCtCvk5gdFS4gmTkYejStUxbwybLjlnBTjRJmOuZFo9OdmtCWI%2BYdNMrqjxepovtfoZwUTq0PNdHfDFk7nTDQG9PmiHWq%2F4LmC1LllkrLPf50VCOVMwSkte7LuNmsWnoU%2Bc%2Bse2%2FedS1pXDAQl%2FK2fx1NMOXur%2FxackMIrKBam0FE9GVhJqV%2BMYKrFPnSD3A%3D&encSecKey=04b7404ec2b863b24c009ca0e1ae8819e7e050e4d4337c1105e76eede154f2e0e0b6fa411d6a3ea45ab86f03725c24a98eaae97b97de17db31a5ce43a7ceab9970523d543b437816554007e954575cab73a39ecd7cacc6c1bac42d44605ee9b5254b9d0c52404e132274d49473eac830158c79037c99c399aabbbff1e98bf6b1'\n",
    "    res = requests.post(data=myc_data, headers=headers, url=url)\n",
    "    res.encoding = 'utf-8'\n",
    "    return res.json()"
   ]
  },
  {
   "cell_type": "code",
   "execution_count": 31,
   "metadata": {},
   "outputs": [],
   "source": [
    "tmp_list = get_rank_list('https://music.163.com/weapi/v1/play/record?csrf_token=')"
   ]
  },
  {
   "cell_type": "code",
   "execution_count": 32,
   "metadata": {},
   "outputs": [],
   "source": [
    "class rank_list:\n",
    "    allData = []\n",
    "    weekData = []\n",
    "    def __init__(self, url):\n",
    "        self.allData = tmp_list['allData']\n",
    "        self.weekData = tmp_list['weekData']"
   ]
  },
  {
   "cell_type": "code",
   "execution_count": 33,
   "metadata": {},
   "outputs": [],
   "source": [
    "musics = rank_list('https://music.163.com/weapi/v1/play/record?csrf_token=')"
   ]
  },
  {
   "cell_type": "code",
   "execution_count": 34,
   "metadata": {},
   "outputs": [],
   "source": [
    "# musics.allData\n",
    "\n",
    "\n",
    "# weekList = [(item['song']['name'], item['song']['ar']['name'], item['song']['al']['name']) for item in musics.weekData]\n",
    "\n",
    "# 对于列表中的每一项，添加到对象数组中\n",
    "weekList = []\n",
    "for index, item in enumerate(musics.weekData):\n",
    "    data = {}\n",
    "    data['rank'] = index + 1\n",
    "    data['id'] = item['song']['id']\n",
    "    data['name'] = item['song']['name']\n",
    "    data['singer'] = item['song']['ar'][0]['name']\n",
    "    data['album'] = item['song']['al']['name']\n",
    "    weekList.append(data)"
   ]
  },
  {
   "cell_type": "code",
   "execution_count": 35,
   "metadata": {},
   "outputs": [],
   "source": [
    "# weekList"
   ]
  },
  {
   "cell_type": "code",
   "execution_count": 36,
   "metadata": {},
   "outputs": [],
   "source": [
    "import pandas as pd\n",
    "df = pd.DataFrame(weekList)\n",
    "df.to_csv('weekList.csv', index=False, encoding='utf_8_sig')\n",
    "df.to_excel('weekList.xlsx', index=False, encoding='utf_8_sig')"
   ]
  }
 ],
 "metadata": {
  "interpreter": {
   "hash": "cb1b369372d3a47edf0f21cedd421578bc40b68043a7d15ca1405f07bbcb811c"
  },
  "kernelspec": {
   "display_name": "Python 3.9.7 ('base')",
   "language": "python",
   "name": "python3"
  },
  "language_info": {
   "codemirror_mode": {
    "name": "ipython",
    "version": 3
   },
   "file_extension": ".py",
   "mimetype": "text/x-python",
   "name": "python",
   "nbconvert_exporter": "python",
   "pygments_lexer": "ipython3",
   "version": "3.8.8"
  },
  "orig_nbformat": 4
 },
 "nbformat": 4,
 "nbformat_minor": 2
}
