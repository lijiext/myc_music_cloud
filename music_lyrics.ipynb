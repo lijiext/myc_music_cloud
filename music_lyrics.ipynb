{
 "cells": [
  {
   "cell_type": "code",
   "execution_count": 217,
   "metadata": {},
   "outputs": [],
   "source": [
    "import pandas as pd\n",
    "import requests\n",
    "import re\n",
    "from tqdm import tqdm"
   ]
  },
  {
   "cell_type": "code",
   "execution_count": 11,
   "metadata": {},
   "outputs": [],
   "source": [
    "songs = pd.read_csv('weekList.csv')"
   ]
  },
  {
   "cell_type": "code",
   "execution_count": 12,
   "metadata": {},
   "outputs": [],
   "source": [
    "songs = songs['id'].tolist()"
   ]
  },
  {
   "cell_type": "code",
   "execution_count": 202,
   "metadata": {},
   "outputs": [],
   "source": [
    "lyrics = \"\"\n",
    "lyrics = requests.get('http://localhost:3000/lyric?id=' + str(songs[2])).json()['lrc']['lyric']"
   ]
  },
  {
   "cell_type": "code",
   "execution_count": 203,
   "metadata": {},
   "outputs": [],
   "source": [
    "def remove_stop_words(f):\n",
    "    stop_words = list(set(line.rstrip() for line in open('stopwords.txt')))\n",
    "    # 首先将歌词拆分成一行一行，存在列表里\n",
    "    f = f.split('\\n')\n",
    "    f1 = []\n",
    "    for line in f:\n",
    "       # 如果这一行不包含停止词，则将这一行加入到新的歌词列表中\n",
    "         if not any(word in line for word in stop_words):\n",
    "            f1.append(line)\n",
    "    f2 = ''\n",
    "    for line in f1:\n",
    "        # 将新的歌词列表转换成字符串\n",
    "        f2 += line + '\\n'\n",
    "    return f2"
   ]
  },
  {
   "cell_type": "code",
   "execution_count": 204,
   "metadata": {},
   "outputs": [],
   "source": [
    "def lrc_parse(lrc_str):\n",
    "    new_lyric = lrc_str\n",
    "    # 删除包含停止词的行\n",
    "    new_lyric = remove_stop_words(new_lyric)\n",
    "    # 删除歌词中的时间\n",
    "    new_lyric = re.sub(r'[\\d:.[\\]]','', new_lyric) \n",
    "    return new_lyric"
   ]
  },
  {
   "cell_type": "code",
   "execution_count": null,
   "metadata": {},
   "outputs": [],
   "source": [
    "test = lrc_parse(lyrics)\n",
    "# print(test)"
   ]
  },
  {
   "cell_type": "code",
   "execution_count": 237,
   "metadata": {},
   "outputs": [
    {
     "name": "stderr",
     "output_type": "stream",
     "text": [
      "95it [00:25,  3.75it/s]\n"
     ]
    }
   ],
   "source": [
    "# 下面开始对列表中的所有歌曲进行歌词提取\n",
    "lyrics_list = ''\n",
    "for index, song in tqdm(enumerate(songs)):\n",
    "    lyrics = \"\"\n",
    "    lyrics = requests.get('http://localhost:3000/lyric?id=' + str(song)).json()['lrc']['lyric'] \n",
    "    lyrics_list += lrc_parse(lyrics)"
   ]
  },
  {
   "cell_type": "code",
   "execution_count": 238,
   "metadata": {},
   "outputs": [],
   "source": [
    "# 保存歌词到文件中\n",
    "with open('lyrics.txt', 'w') as f:\n",
    "    f.write(lyrics_list)\n",
    "# lyrics_list"
   ]
  }
 ],
 "metadata": {
  "interpreter": {
   "hash": "cb1b369372d3a47edf0f21cedd421578bc40b68043a7d15ca1405f07bbcb811c"
  },
  "kernelspec": {
   "display_name": "Python 3.9.7 ('base')",
   "language": "python",
   "name": "python3"
  },
  "language_info": {
   "codemirror_mode": {
    "name": "ipython",
    "version": 3
   },
   "file_extension": ".py",
   "mimetype": "text/x-python",
   "name": "python",
   "nbconvert_exporter": "python",
   "pygments_lexer": "ipython3",
   "version": "3.8.8"
  },
  "orig_nbformat": 4
 },
 "nbformat": 4,
 "nbformat_minor": 2
}
