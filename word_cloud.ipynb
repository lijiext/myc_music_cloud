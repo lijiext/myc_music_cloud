{
 "cells": [
  {
   "cell_type": "code",
   "execution_count": 6,
   "metadata": {},
   "outputs": [],
   "source": [
    "import jieba\n",
    "from wordcloud import WordCloud"
   ]
  },
  {
   "cell_type": "code",
   "execution_count": 9,
   "metadata": {},
   "outputs": [
    {
     "data": {
      "text/plain": [
       "<wordcloud.wordcloud.WordCloud at 0xffff5cbcf340>"
      ]
     },
     "execution_count": 9,
     "metadata": {},
     "output_type": "execute_result"
    }
   ],
   "source": [
    "# 读取文件\n",
    "with open('lyrics.txt', 'r', encoding='utf-8') as f:\n",
    "    text = f.read()\n",
    "word_list = jieba.lcut(text, cut_all=True)\n",
    "text = ' '.join(word_list)\n",
    "\n",
    "# 忽略无意义的词\n",
    "ignore_words = ['me', 'and', '的','了', 'oh', 'ooh', 'let', 'don', 'give', 'ass', 'take', '那么', '里面', 'your', 'you', 'my', 'so', 'baby', 'the', 'to', 'be', 'me', '一', '什么', '有时', '时候', '一个', '真的', '一点', '那些', '个人', 'that', 'on', 'that', 'for', 'in', 'can', 'na', 'it', 'every', 'body', 'can', 'Every', 'll', 'out', 'of', 're', 'is', 'home', 'coming', 'When', 'Move', '跳舞', 'what', 'not', 'im', '的']\n",
    "\n",
    "# 词云\n",
    "word_cloud = WordCloud(\n",
    "    font_path='/home/lijiecn/coding/vscode/myc_netease/NotoSansSC-Regular.otf',\n",
    "    background_color='white',\n",
    "    width=1000,\n",
    "    height=700,\n",
    "    max_font_size=100,\n",
    "    min_font_size=10,\n",
    "    max_words=100,\n",
    "    mask=None,\n",
    "    scale=1,\n",
    "    mode='RGB',\n",
    "    repeat=False,\n",
    "    min_word_length=2,\n",
    "    stopwords=ignore_words\n",
    "    ).generate(text)\n",
    "word_cloud.to_file('word_cloud.png')"
   ]
  }
 ],
 "metadata": {
  "interpreter": {
   "hash": "cb1b369372d3a47edf0f21cedd421578bc40b68043a7d15ca1405f07bbcb811c"
  },
  "kernelspec": {
   "display_name": "Python 3.9.7 ('base')",
   "language": "python",
   "name": "python3"
  },
  "language_info": {
   "codemirror_mode": {
    "name": "ipython",
    "version": 3
   },
   "file_extension": ".py",
   "mimetype": "text/x-python",
   "name": "python",
   "nbconvert_exporter": "python",
   "pygments_lexer": "ipython3",
   "version": "3.8.8"
  },
  "orig_nbformat": 4
 },
 "nbformat": 4,
 "nbformat_minor": 2
}
