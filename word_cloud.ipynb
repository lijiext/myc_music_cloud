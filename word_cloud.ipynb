{
 "cells": [
  {
   "cell_type": "code",
   "execution_count": 1,
   "metadata": {},
   "outputs": [],
   "source": [
    "import jieba\n",
    "from wordcloud import WordCloud"
   ]
  },
  {
   "cell_type": "code",
   "execution_count": 23,
   "metadata": {},
   "outputs": [
    {
     "data": {
      "text/plain": [
       "<wordcloud.wordcloud.WordCloud at 0xffff881389d0>"
      ]
     },
     "execution_count": 23,
     "metadata": {},
     "output_type": "execute_result"
    }
   ],
   "source": [
    "# 读取文件\n",
    "with open('lyrics.txt', 'r', encoding='utf-8') as f:\n",
    "    text = f.read()\n",
    "word_list = jieba.lcut(text, cut_all=True)\n",
    "text = ' '.join(word_list)\n",
    "\n",
    "# 忽略无意义的词\n",
    "ignore_words = ['me', 'and', '的','了', 'oh', 'ooh', 'let', 'don', 'give', 'ass', 'take', '那么', '里面', 'your', 'you', 'my', 'so', 'baby', 'the', 'to', 'be', 'me', '一', '什么', '有时', '时候', '一个', '真的', '一点', '那些', '个人', 'that', 'on', 'that', 'for', 'in', 'can', 'na', 'it', 'every', 'body', 'can', 'Every', 'll', 'out', 'of', 're', 'is', 'home', 'coming', 'When', 'Move', '跳舞', 'what', 'not', 'im', '的']\n",
    "\n",
    "# 词云\n",
    "word_cloud = WordCloud(\n",
    "    font_path='/home/lijiecn/coding/vscode/myc_netease/NotoSansSC-Regular.otf',\n",
    "    background_color='white',\n",
    "    width=1000,\n",
    "    height=700,\n",
    "    max_font_size=100,\n",
    "    min_font_size=10,\n",
    "    max_words=100,\n",
    "    mask=None,\n",
    "    scale=1,\n",
    "    mode='RGB',\n",
    "    repeat=False,\n",
    "    min_word_length=2,\n",
    "    stopwords=ignore_words\n",
    "    ).generate(text)\n",
    "word_cloud.to_file('word_cloud.png')"
   ]
  },
  {
   "cell_type": "code",
   "execution_count": 22,
   "metadata": {},
   "outputs": [
    {
     "name": "stdout",
     "output_type": "stream",
     "text": [
      "           8927\n",
      "没有           91\n",
      "我们           73\n",
      "如果           61\n",
      "什么           55\n",
      "自己           53\n",
      "不会           46\n",
      "现在           41\n",
      "还是           41\n",
      "开始           38\n",
      "一切           38\n",
      "可以           38\n",
      "you          34\n",
      "一个           32\n",
      "世界           30\n",
      "知道           30\n",
      "想要           30\n",
      "时间           28\n",
      "一起           28\n",
      "怎么           26\n",
      "过去           26\n",
      "希望           26\n",
      "时候           26\n",
      "所有           26\n",
      "不是           25\n",
      "为什么          25\n",
      "不再           25\n",
      "太多           25\n",
      "不要           24\n",
      "再见           24\n"
     ]
    }
   ],
   "source": [
    "counts = {}\n",
    "for word in word_list:\n",
    "    if len(word) == 1:\n",
    "        continue\n",
    "    else:\n",
    "        counts[word] = counts.get(word,0) + 1\n",
    "items = list(counts.items())\n",
    "items.sort(key=lambda x:x[1],reverse=True)\n",
    "for i in range(30):\n",
    "    word,count = items[i]\n",
    "    print(\"{0:<10}{1:>5}\".format(word,count))"
   ]
  }
 ],
 "metadata": {
  "interpreter": {
   "hash": "cb1b369372d3a47edf0f21cedd421578bc40b68043a7d15ca1405f07bbcb811c"
  },
  "kernelspec": {
   "display_name": "Python 3.9.7 ('base')",
   "language": "python",
   "name": "python3"
  },
  "language_info": {
   "codemirror_mode": {
    "name": "ipython",
    "version": 3
   },
   "file_extension": ".py",
   "mimetype": "text/x-python",
   "name": "python",
   "nbconvert_exporter": "python",
   "pygments_lexer": "ipython3",
   "version": "3.8.8"
  },
  "orig_nbformat": 4
 },
 "nbformat": 4,
 "nbformat_minor": 2
}
